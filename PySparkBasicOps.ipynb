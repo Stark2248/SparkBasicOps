{
 "cells": [
  {
   "cell_type": "code",
   "execution_count": 1,
   "id": "22646f7e-5fb5-4cbc-86b0-57620e318f01",
   "metadata": {},
   "outputs": [],
   "source": [
    "import os\n",
    "import sys\n",
    "\n",
    "os.environ['PYSPARK_PYTHON'] = 'python'"
   ]
  },
  {
   "cell_type": "code",
   "execution_count": 3,
   "id": "e296cf2f-2011-4b75-ab91-58f87dcd3ae6",
   "metadata": {
    "scrolled": true
   },
   "outputs": [],
   "source": [
    "from pyspark.sql import SparkSession\n",
    "from pyspark.sql.functions import avg\n",
    "from pyspark.sql.functions import col"
   ]
  },
  {
   "cell_type": "code",
   "execution_count": 5,
   "id": "4002b098-76d4-4755-82fa-53fddf95d5a4",
   "metadata": {},
   "outputs": [
    {
     "name": "stdout",
     "output_type": "stream",
     "text": [
      "3.4.1\n"
     ]
    }
   ],
   "source": [
    "# Create a Spark session\n",
    "spark = SparkSession.builder.appName(\"Average Salary Calculation\").getOrCreate()\n",
    "\n",
    "# Print the version of Spark\n",
    "print(spark.version)"
   ]
  },
  {
   "cell_type": "code",
   "execution_count": 7,
   "id": "5ce8a296-9d5d-42ea-8de3-58ceb18cb239",
   "metadata": {},
   "outputs": [],
   "source": [
    "file_path=\"employee_data.txt\""
   ]
  },
  {
   "cell_type": "code",
   "execution_count": 9,
   "id": "6746e3e1-e5c0-4eeb-bd25-fe7812db3cf6",
   "metadata": {},
   "outputs": [],
   "source": [
    "#converting the textfile into dataframe\n",
    "df = spark.read.option(\"header\", \"true\") \\\n",
    "               .option(\"delimiter\", \"\\t\") \\\n",
    "               .csv(file_path)"
   ]
  },
  {
   "cell_type": "code",
   "execution_count": 11,
   "id": "cea19ca7-a1da-4d8d-bbed-3c6ab3c26234",
   "metadata": {},
   "outputs": [
    {
     "name": "stdout",
     "output_type": "stream",
     "text": [
      "root\n",
      " |-- EmployeeID: string (nullable = true)\n",
      " |-- Name: string (nullable = true)\n",
      " |-- Age: string (nullable = true)\n",
      " |-- Department: string (nullable = true)\n",
      " |-- Salary: string (nullable = true)\n",
      "\n"
     ]
    }
   ],
   "source": [
    "df.printSchema()"
   ]
  },
  {
   "cell_type": "code",
   "execution_count": 13,
   "id": "624c2731-2364-404f-9c0d-82eae461689b",
   "metadata": {},
   "outputs": [
    {
     "name": "stdout",
     "output_type": "stream",
     "text": [
      "+----------+-------------+---+----------+------+\n",
      "|EmployeeID|         Name|Age|Department|Salary|\n",
      "+----------+-------------+---+----------+------+\n",
      "|    E00001|   Jane Davis| 34|        HR| 77511|\n",
      "|    E00002|Jessica Brown| 53|     Sales| 52623|\n",
      "|    E00003|   Emma Moore| 42| Marketing| 87842|\n",
      "|    E00004|  Emily Jones| 61|   Finance| 76855|\n",
      "|    E00005|Michael Davis| 51|        HR|134142|\n",
      "+----------+-------------+---+----------+------+\n",
      "only showing top 5 rows\n",
      "\n"
     ]
    }
   ],
   "source": [
    "df.show(5)"
   ]
  },
  {
   "cell_type": "code",
   "execution_count": 15,
   "id": "c470b073-8018-42e0-8427-9b7c9161af5e",
   "metadata": {},
   "outputs": [
    {
     "name": "stdout",
     "output_type": "stream",
     "text": [
      "The average salary is: $90213.05\n"
     ]
    }
   ],
   "source": [
    "# Convert the 'Salary' column to integer\n",
    "df = df.withColumn(\"Salary\", df[\"Salary\"].cast(\"integer\"))\n",
    "\n",
    "# Calculate the average salary\n",
    "average_salary = df.agg(avg(\"Salary\")).collect()[0][0]\n",
    "\n",
    "print(f\"The average salary is: ${average_salary:.2f}\")"
   ]
  },
  {
   "cell_type": "code",
   "execution_count": 17,
   "id": "83f0ffde-5e6f-4c3d-9dc2-d60621a7bb71",
   "metadata": {},
   "outputs": [
    {
     "name": "stdout",
     "output_type": "stream",
     "text": [
      "The average salary is: $90213.05\n"
     ]
    }
   ],
   "source": [
    "# Convert the 'Salary' column to integer\n",
    "#df = df.withColumn(\"Salary\", df[\"Salary\"].cast(\"integer\"))\n",
    "#As above line is already compiled previously so wont be addinf but its need to be done if not done\n",
    "salaries_rdd = df.select(\"Salary\").rdd \\\n",
    "    .filter(lambda row: row[0] is not None) \\\n",
    "    .map(lambda row: row[0])\n",
    "# Calculate the sum of the salaries using reduce\n",
    "total_salary = salaries_rdd.reduce(lambda x, y: x + y)\n",
    "total_employees = salaries_rdd.count()\n",
    "# Calculate the average salary\n",
    "average_salary = total_salary / total_employees\n",
    "\n",
    "print(f\"The average salary is: ${average_salary:.2f}\")"
   ]
  },
  {
   "cell_type": "code",
   "execution_count": 19,
   "id": "0859e2de-ec50-41b3-bb80-ea74956729a1",
   "metadata": {},
   "outputs": [],
   "source": [
    "spark.stop()"
   ]
  },
  {
   "cell_type": "code",
   "execution_count": 21,
   "id": "b24d16b2-16e1-4648-b91e-09ab35c1d71e",
   "metadata": {},
   "outputs": [],
   "source": [
    "from pyspark import SparkConf, SparkContext"
   ]
  },
  {
   "cell_type": "code",
   "execution_count": 23,
   "id": "4d8b4764-33a1-4d38-9ca6-9f586b5f1d6b",
   "metadata": {},
   "outputs": [],
   "source": [
    "conf = SparkConf().setAppName(\"Average Salary Calculation using RDD\")\n",
    "sc = SparkContext(conf=conf)"
   ]
  },
  {
   "cell_type": "code",
   "execution_count": 25,
   "id": "0375ca24-93aa-43e7-b8a7-d2fa5086e7cb",
   "metadata": {},
   "outputs": [],
   "source": [
    "file_path = \"employee_data.txt\"\n",
    "\n",
    "# Read the text file into an RDD\n",
    "lines = sc.textFile(file_path)"
   ]
  },
  {
   "cell_type": "code",
   "execution_count": 27,
   "id": "c8187d98-d135-455c-9efa-cc8d7168ca59",
   "metadata": {},
   "outputs": [
    {
     "name": "stdout",
     "output_type": "stream",
     "text": [
      "\n",
      "Sample Data:\n",
      "EmployeeID\tName\tAge\tDepartment\tSalary\n",
      "E00001\tJane Davis\t34\tHR\t77511\n",
      "E00002\tJessica Brown\t53\tSales\t52623\n",
      "E00003\tEmma Moore\t42\tMarketing\t87842\n",
      "E00004\tEmily Jones\t61\tFinance\t76855\n"
     ]
    }
   ],
   "source": [
    "print(\"\\nSample Data:\")\n",
    "for line in lines.take(5):\n",
    "    print(line)"
   ]
  },
  {
   "cell_type": "code",
   "execution_count": 29,
   "id": "34f4b97a-bc9c-4016-9a16-54fa8aef1320",
   "metadata": {},
   "outputs": [],
   "source": [
    "# Split the lines into columns and filter out the header\n",
    "header = lines.first()  # extract header\n",
    "data = lines.filter(lambda line: line != header)  # remove header\n",
    "columns = data.map(lambda line: line.split(\"\\t\"))  # split lines by tab"
   ]
  },
  {
   "cell_type": "code",
   "execution_count": 31,
   "id": "f3bae553-be7f-45a0-8ba8-042275443af3",
   "metadata": {},
   "outputs": [],
   "source": [
    "# Extract salaries and convert to integer\n",
    "salaries = columns.map(lambda col: int(col[4]))"
   ]
  },
  {
   "cell_type": "code",
   "execution_count": 33,
   "id": "7f9dc2cf-f59d-4291-b8e7-4a16c5eb2f58",
   "metadata": {},
   "outputs": [
    {
     "name": "stdout",
     "output_type": "stream",
     "text": [
      "\n",
      "The average salary is: $90213.05\n"
     ]
    }
   ],
   "source": [
    "# Calculate the sum of salaries using reduce\n",
    "total_salary = salaries.reduce(lambda x, y: x + y)\n",
    "\n",
    "# Count the number of employees\n",
    "total_employees = salaries.count()\n",
    "\n",
    "# Calculate the average salary\n",
    "average_salary = total_salary / total_employees\n",
    "\n",
    "print(f\"\\nThe average salary is: ${average_salary:.2f}\")"
   ]
  },
  {
   "cell_type": "code",
   "execution_count": null,
   "id": "16e4165e-9283-4b66-82d7-fa07b1a3a8d7",
   "metadata": {},
   "outputs": [],
   "source": []
  }
 ],
 "metadata": {
  "kernelspec": {
   "display_name": "Python 3 (ipykernel)",
   "language": "python",
   "name": "python3"
  },
  "language_info": {
   "codemirror_mode": {
    "name": "ipython",
    "version": 3
   },
   "file_extension": ".py",
   "mimetype": "text/x-python",
   "name": "python",
   "nbconvert_exporter": "python",
   "pygments_lexer": "ipython3",
   "version": "3.11.7"
  }
 },
 "nbformat": 4,
 "nbformat_minor": 5
}
