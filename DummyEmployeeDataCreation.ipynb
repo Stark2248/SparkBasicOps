{
 "cells": [
  {
   "cell_type": "code",
   "execution_count": 1,
   "id": "b74dcf7f-0275-4057-87d5-c203a15ba35c",
   "metadata": {},
   "outputs": [
    {
     "name": "stdout",
     "output_type": "stream",
     "text": [
      "Dummy employee data file 'employee_data.txt' created successfully.\n"
     ]
    }
   ],
   "source": [
    "import random\n",
    "import csv\n",
    "import string\n",
    "\n",
    "# Function to generate a random name\n",
    "def generate_name():\n",
    "    first_names = ['John', 'Jane', 'Michael', 'Jessica', 'Emily', 'Daniel', 'Sophia', 'David', 'Emma', 'Chris']\n",
    "    last_names = ['Smith', 'Johnson', 'Williams', 'Jones', 'Brown', 'Davis', 'Miller', 'Wilson', 'Moore', 'Taylor']\n",
    "    return f\"{random.choice(first_names)} {random.choice(last_names)}\"\n",
    "\n",
    "# Function to generate random employee data\n",
    "def generate_employee_data(num_records):\n",
    "    departments = ['HR', 'IT', 'Sales', 'Marketing', 'Finance', 'Support', 'Operations', 'Engineering']\n",
    "    employee_data = []\n",
    "    \n",
    "    for i in range(1, num_records + 1):\n",
    "        employee_id = f\"E{i:05d}\"  # Employee ID with leading zeros (e.g., E00001)\n",
    "        name = generate_name()\n",
    "        age = random.randint(20, 65)\n",
    "        department = random.choice(departments)\n",
    "        salary = random.randint(30000, 150000)\n",
    "        employee_data.append([employee_id, name, age, department, salary])\n",
    "    \n",
    "    return employee_data\n",
    "\n",
    "# Generate data for 500 employees\n",
    "employee_data = generate_employee_data(500)\n",
    "\n",
    "# Write the data to a text file\n",
    "with open('employee_data.txt', 'w', newline='') as file:\n",
    "    writer = csv.writer(file, delimiter='\\t')\n",
    "    # Write header\n",
    "    writer.writerow(['EmployeeID', 'Name', 'Age', 'Department', 'Salary'])\n",
    "    # Write data\n",
    "    writer.writerows(employee_data)\n",
    "\n",
    "print(\"Dummy employee data file 'employee_data.txt' created successfully.\")\n"
   ]
  },
  {
   "cell_type": "code",
   "execution_count": null,
   "id": "ce73c2b1-347b-491f-afde-e467f2d425ea",
   "metadata": {},
   "outputs": [],
   "source": []
  },
  {
   "cell_type": "code",
   "execution_count": null,
   "id": "2e7e7c33-9825-4737-af87-6f592c0f0ced",
   "metadata": {},
   "outputs": [],
   "source": []
  }
 ],
 "metadata": {
  "kernelspec": {
   "display_name": "Python 3 (ipykernel)",
   "language": "python",
   "name": "python3"
  },
  "language_info": {
   "codemirror_mode": {
    "name": "ipython",
    "version": 3
   },
   "file_extension": ".py",
   "mimetype": "text/x-python",
   "name": "python",
   "nbconvert_exporter": "python",
   "pygments_lexer": "ipython3",
   "version": "3.11.7"
  }
 },
 "nbformat": 4,
 "nbformat_minor": 5
}
